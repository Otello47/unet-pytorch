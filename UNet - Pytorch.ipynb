{
 "cells": [
  {
   "cell_type": "code",
   "execution_count": 1,
   "metadata": {
    "collapsed": false
   },
   "outputs": [],
   "source": [
    "from __future__ import print_function\n",
    "import torch\n",
    "import torch.nn as nn\n",
    "import torch.optim as optim\n",
    "import torch.nn.functional as F\n",
    "from torch.utils.data import DataLoader\n",
    "from torchvision import datasets, transforms, utils\n",
    "from torch.autograd import Variable\n",
    "\n",
    "import os\n",
    "import csv\n",
    "import numpy as np\n",
    "import pandas as pd\n",
    "\n",
    "from matplotlib import pyplot as plt\n",
    "%matplotlib inline\n",
    "# Ignore warnings\n",
    "import warnings\n",
    "warnings.filterwarnings(\"ignore\")\n",
    "\n",
    "%load_ext autoreload\n",
    "\n",
    "%autoreload 2\n",
    "plt.ion()   # interactive mode"
   ]
  },
  {
   "cell_type": "code",
   "execution_count": 2,
   "metadata": {
    "collapsed": false
   },
   "outputs": [],
   "source": [
    "# Prepare the Dataset\n",
    "IMAGE_DIR = \"Dataset/2d_images/\"\n",
    "MASK_DIR = \"Dataset/2d_masks/\"\n",
    "with open('Dataset/Lung_CT_Dataset.csv', 'wb') as csv_file:\n",
    "    writer = csv.writer(csv_file)\n",
    "    writer.writerow([\"filename\", \"mask\"])\n",
    "    for p in os.listdir(IMAGE_DIR):\n",
    "        image_path = os.path.join(IMAGE_DIR, p)\n",
    "        mask_path = os.path.join(MASK_DIR, p)\n",
    "        writer.writerow([image_path, mask_path])\n"
   ]
  },
  {
   "cell_type": "code",
   "execution_count": 3,
   "metadata": {
    "collapsed": false
   },
   "outputs": [],
   "source": [
    "data = pd.read_csv(\"Dataset/Lung_CT_Dataset.csv\")\n",
    "data = data.iloc[np.random.permutation(len(data))]\n",
    "p = int(len(data)*0.7)\n",
    "train, validation = data[:p], data[p:]\n",
    "train.to_csv(\"Dataset/Lung_CT_Train.csv\", index=False)\n",
    "validation.to_csv(\"Dataset/Lung_CT_Validation.csv\", index=False)"
   ]
  },
  {
   "cell_type": "code",
   "execution_count": 4,
   "metadata": {
    "collapsed": false
   },
   "outputs": [],
   "source": [
    "from dataset import LungCTDataset\n",
    "lung_ct_train_dataset = LungCTDataset(csv_file='Dataset/Lung_CT_Train.csv', root_dir='./')\n",
    "lung_ct_val_dataset = LungCTDataset(csv_file='Dataset/Lung_CT_Validation.csv', root_dir='./')\n",
    "train_dataloader = DataLoader(lung_ct_train_dataset, batch_size=100, shuffle=True, num_workers=4)\n",
    "val_dataloader = DataLoader(lung_ct_val_dataset, batch_size=100, shuffle=True, num_workers=4)"
   ]
  },
  {
   "cell_type": "code",
   "execution_count": 5,
   "metadata": {
    "collapsed": false
   },
   "outputs": [],
   "source": [
    "from model import * \n",
    "model_instance = UNet(1, 1)"
   ]
  },
  {
   "cell_type": "code",
   "execution_count": 6,
   "metadata": {
    "collapsed": false
   },
   "outputs": [],
   "source": [
    "# model_instance.apply(weights_init)"
   ]
  },
  {
   "cell_type": "code",
   "execution_count": 7,
   "metadata": {
    "collapsed": false
   },
   "outputs": [],
   "source": [
    "optimizer = optim.Adam(model_instance.parameters(), lr=0.000001)\n",
    "criterion = nn.BCELoss()"
   ]
  },
  {
   "cell_type": "code",
   "execution_count": 8,
   "metadata": {
    "collapsed": false
   },
   "outputs": [],
   "source": [
    "def train(model, epoch):\n",
    "    model.train()\n",
    "    correct = 0\n",
    "    for batch_idx, data in enumerate(train_dataloader):\n",
    "        data, target = Variable(data[\"image\"]), Variable(data[\"mask\"])\n",
    "        optimizer.zero_grad()\n",
    "        output = model.forward(data.float())\n",
    "        loss = criterion(output.float(), target.float())\n",
    "        optimizer.zero_grad()\n",
    "        loss.backward()\n",
    "        optimizer.step()\n",
    "        if batch_idx % 1 == 0:\n",
    "            print('Train Epoch: {} [{}/{} ({:.0f}%)]\\tLoss: {:.6f}'.format(\n",
    "                epoch, batch_idx * len(data), len(train_dataloader.dataset),\n",
    "                100. * batch_idx / len(train_dataloader), loss.data[0]))\n",
    "    "
   ]
  },
  {
   "cell_type": "code",
   "execution_count": 18,
   "metadata": {
    "collapsed": false
   },
   "outputs": [],
   "source": [
    "def test(model):\n",
    "    model.eval()\n",
    "    test_loss = 0\n",
    "    for data in val_dataloader:\n",
    "        data, target = Variable(data[\"image\"], volatile=True), Variable(data[\"mask\"])\n",
    "        output = model(data.float())\n",
    "        # print(output.data[0])\n",
    "        test_loss += criterion(output.float(), target.float()).data[0] # sum up batch loss\n",
    "    test_loss /= len(val_dataloader.dataset)\n",
    "    print(\"Average Loss: \", test_loss)\n"
   ]
  },
  {
   "cell_type": "code",
   "execution_count": 20,
   "metadata": {
    "collapsed": false
   },
   "outputs": [
    {
     "name": "stdout",
     "output_type": "stream",
     "text": [
      "Train Epoch: 1 [0/185 (0%)]\tLoss: 0.911474\n",
      "Train Epoch: 1 [85/185 (50%)]\tLoss: 0.924032\n",
      "\n",
      "(0 ,.,.) = \n",
      "  0.6797  0.6462  0.8109  ...   0.7261  0.6412  0.7083\n",
      "  0.5893  0.5546  0.6293  ...   0.5366  0.5382  0.5871\n",
      "  0.5374  0.5041  0.6811  ...   0.5835  0.5755  0.5888\n",
      "           ...             ⋱             ...          \n",
      "  0.5542  0.5194  0.5386  ...   0.5647  0.5818  0.6232\n",
      "  0.5729  0.5098  0.5380  ...   0.5746  0.5912  0.5867\n",
      "  0.5910  0.5803  0.5620  ...   0.5699  0.5325  0.5868\n",
      "[torch.FloatTensor of size 1x32x32]\n",
      "\n",
      "Average Loss:  0.0113601431251\n",
      "Train Epoch: 2 [0/185 (0%)]\tLoss: 0.910922\n",
      "Train Epoch: 2 [85/185 (50%)]\tLoss: 0.926548\n",
      "\n",
      "(0 ,.,.) = \n",
      "  0.6745  0.6244  0.7889  ...   0.7119  0.6290  0.7008\n",
      "  0.5869  0.5493  0.5853  ...   0.5312  0.5339  0.5869\n",
      "  0.5438  0.4936  0.6518  ...   0.5745  0.5750  0.5888\n",
      "           ...             ⋱             ...          \n",
      "  0.5524  0.5172  0.5431  ...   0.5672  0.5795  0.6070\n",
      "  0.5686  0.5080  0.5499  ...   0.5878  0.5916  0.5869\n",
      "  0.5891  0.5651  0.5580  ...   0.5717  0.5332  0.5869\n",
      "[torch.FloatTensor of size 1x32x32]\n",
      "\n",
      "Average Loss:  0.0113555587828\n",
      "Train Epoch: 3 [0/185 (0%)]\tLoss: 0.911155\n",
      "Train Epoch: 3 [85/185 (50%)]\tLoss: 0.930071\n",
      "\n",
      "(0 ,.,.) = \n",
      "  0.6806  0.6526  0.8214  ...   0.7282  0.6423  0.7103\n",
      "  0.5889  0.5546  0.6418  ...   0.5345  0.5354  0.5868\n",
      "  0.5329  0.4998  0.6909  ...   0.5834  0.5741  0.5885\n",
      "           ...             ⋱             ...          \n",
      "  0.5511  0.5153  0.5346  ...   0.5639  0.5800  0.6282\n",
      "  0.5705  0.5044  0.5345  ...   0.5736  0.5907  0.5864\n",
      "  0.5909  0.5795  0.5611  ...   0.5695  0.5310  0.5865\n",
      "[torch.FloatTensor of size 1x32x32]\n",
      "\n",
      "Average Loss:  0.0113520801067\n",
      "Train Epoch: 4 [0/185 (0%)]\tLoss: 0.928606\n",
      "Train Epoch: 4 [85/185 (50%)]\tLoss: 0.910544\n",
      "\n",
      "(0 ,.,.) = \n",
      "  0.6807  0.6549  0.8247  ...   0.7283  0.6420  0.7106\n",
      "  0.5888  0.5548  0.6467  ...   0.5341  0.5347  0.5868\n",
      "  0.5313  0.4971  0.6937  ...   0.5836  0.5739  0.5885\n",
      "           ...             ⋱             ...          \n",
      "  0.5497  0.5127  0.5340  ...   0.5632  0.5792  0.6294\n",
      "  0.5694  0.5031  0.5326  ...   0.5735  0.5907  0.5863\n",
      "  0.5909  0.5785  0.5609  ...   0.5694  0.5305  0.5865\n",
      "[torch.FloatTensor of size 1x32x32]\n",
      "\n",
      "Average Loss:  0.0113475605845\n",
      "Train Epoch: 5 [0/185 (0%)]\tLoss: 0.910923\n",
      "Train Epoch: 5 [85/185 (50%)]\tLoss: 0.925767\n",
      "\n",
      "(0 ,.,.) = \n",
      "  0.6767  0.6362  0.8099  ...   0.7200  0.6349  0.7059\n",
      "  0.5885  0.5525  0.6184  ...   0.5304  0.5320  0.5867\n",
      "  0.5371  0.4940  0.6815  ...   0.5779  0.5729  0.5885\n",
      "           ...             ⋱             ...          \n",
      "  0.5481  0.5117  0.5356  ...   0.5665  0.5777  0.6211\n",
      "  0.5662  0.5012  0.5388  ...   0.5812  0.5912  0.5864\n",
      "  0.5899  0.5688  0.5583  ...   0.5706  0.5309  0.5866\n",
      "[torch.FloatTensor of size 1x32x32]\n",
      "\n",
      "Average Loss:  0.0113453365862\n",
      "Train Epoch: 6 [0/185 (0%)]\tLoss: 0.910915\n",
      "Train Epoch: 6 [85/185 (50%)]\tLoss: 0.928424\n",
      "\n",
      "(0 ,.,.) = \n",
      "  0.6813  0.6584  0.8299  ...   0.7299  0.6427  0.7106\n",
      "  0.5886  0.5544  0.6527  ...   0.5326  0.5332  0.5867\n",
      "  0.5296  0.4964  0.6973  ...   0.5829  0.5730  0.5884\n",
      "           ...             ⋱             ...          \n",
      "  0.5483  0.5107  0.5319  ...   0.5626  0.5778  0.6324\n",
      "  0.5681  0.4995  0.5308  ...   0.5737  0.5901  0.5862\n",
      "  0.5909  0.5777  0.5601  ...   0.5695  0.5299  0.5864\n",
      "[torch.FloatTensor of size 1x32x32]\n",
      "\n",
      "Average Loss:  0.0113434970379\n",
      "Train Epoch: 7 [0/185 (0%)]\tLoss: 0.930404\n",
      "Train Epoch: 7 [85/185 (50%)]\tLoss: 0.910239\n",
      "\n",
      "(0 ,.,.) = \n",
      "  0.6815  0.6583  0.8301  ...   0.7298  0.6419  0.7106\n",
      "  0.5885  0.5543  0.6537  ...   0.5320  0.5327  0.5866\n",
      "  0.5288  0.4957  0.6998  ...   0.5825  0.5726  0.5883\n",
      "           ...             ⋱             ...          \n",
      "  0.5482  0.5100  0.5308  ...   0.5620  0.5781  0.6332\n",
      "  0.5682  0.4994  0.5295  ...   0.5730  0.5898  0.5861\n",
      "  0.5909  0.5774  0.5603  ...   0.5693  0.5295  0.5863\n",
      "[torch.FloatTensor of size 1x32x32]\n",
      "\n",
      "Average Loss:  0.0113399505615\n",
      "Train Epoch: 8 [0/185 (0%)]\tLoss: 0.926828\n",
      "Train Epoch: 8 [85/185 (50%)]\tLoss: 0.909667\n",
      "\n",
      "(0 ,.,.) = \n",
      "  0.6759  0.6271  0.8019  ...   0.7141  0.6291  0.7019\n",
      "  0.5871  0.5470  0.6016  ...   0.5270  0.5287  0.5865\n",
      "  0.5385  0.4872  0.6708  ...   0.5722  0.5720  0.5884\n",
      "           ...             ⋱             ...          \n",
      "  0.5478  0.5109  0.5392  ...   0.5663  0.5763  0.6144\n",
      "  0.5640  0.4998  0.5446  ...   0.5876  0.5913  0.5864\n",
      "  0.5889  0.5607  0.5559  ...   0.5712  0.5308  0.5865\n",
      "[torch.FloatTensor of size 1x32x32]\n",
      "\n",
      "Average Loss:  0.0113347411156\n",
      "Train Epoch: 9 [0/185 (0%)]\tLoss: 0.930189\n",
      "Train Epoch: 9 [85/185 (50%)]\tLoss: 0.910206\n",
      "\n",
      "(0 ,.,.) = \n",
      "  0.6814  0.6596  0.8318  ...   0.7297  0.6419  0.7102\n",
      "  0.5883  0.5541  0.6571  ...   0.5314  0.5318  0.5865\n",
      "  0.5279  0.4951  0.7023  ...   0.5824  0.5722  0.5882\n",
      "           ...             ⋱             ...          \n",
      "  0.5475  0.5091  0.5302  ...   0.5620  0.5775  0.6346\n",
      "  0.5678  0.4985  0.5289  ...   0.5731  0.5895  0.5860\n",
      "  0.5909  0.5772  0.5600  ...   0.5691  0.5289  0.5862\n",
      "[torch.FloatTensor of size 1x32x32]\n",
      "\n",
      "Average Loss:  0.011330704391\n",
      "Train Epoch: 10 [0/185 (0%)]\tLoss: 0.910816\n",
      "Train Epoch: 10 [85/185 (50%)]\tLoss: 0.923426\n",
      "\n",
      "(0 ,.,.) = \n",
      "  0.6761  0.6275  0.8040  ...   0.7142  0.6288  0.7018\n",
      "  0.5872  0.5475  0.6046  ...   0.5264  0.5280  0.5864\n",
      "  0.5382  0.4871  0.6754  ...   0.5721  0.5717  0.5883\n",
      "           ...             ⋱             ...          \n",
      "  0.5473  0.5103  0.5384  ...   0.5660  0.5758  0.6149\n",
      "  0.5636  0.4990  0.5441  ...   0.5874  0.5912  0.5863\n",
      "  0.5888  0.5603  0.5556  ...   0.5712  0.5303  0.5864\n",
      "[torch.FloatTensor of size 1x32x32]\n",
      "\n",
      "Average Loss:  0.0113293871284\n",
      "Train Epoch: 11 [0/185 (0%)]\tLoss: 0.910519\n",
      "Train Epoch: 11 [85/185 (50%)]\tLoss: 0.925378\n",
      "\n",
      "(0 ,.,.) = \n",
      "  0.6759  0.6272  0.8049  ...   0.7142  0.6289  0.7020\n",
      "  0.5872  0.5471  0.6054  ...   0.5262  0.5275  0.5864\n",
      "  0.5380  0.4857  0.6766  ...   0.5723  0.5715  0.5883\n",
      "           ...             ⋱             ...          \n",
      "  0.5469  0.5099  0.5381  ...   0.5657  0.5758  0.6148\n",
      "  0.5629  0.4981  0.5437  ...   0.5876  0.5912  0.5863\n",
      "  0.5888  0.5596  0.5553  ...   0.5711  0.5302  0.5864\n",
      "[torch.FloatTensor of size 1x32x32]\n",
      "\n",
      "Average Loss:  0.0113287352026\n",
      "Train Epoch: 12 [0/185 (0%)]\tLoss: 0.924079\n",
      "Train Epoch: 12 [85/185 (50%)]\tLoss: 0.909339\n",
      "\n",
      "(0 ,.,.) = \n",
      "  0.6759  0.6273  0.8052  ...   0.7138  0.6284  0.7016\n",
      "  0.5872  0.5474  0.6058  ...   0.5261  0.5273  0.5863\n",
      "  0.5376  0.4868  0.6785  ...   0.5723  0.5716  0.5883\n",
      "           ...             ⋱             ...          \n",
      "  0.5467  0.5095  0.5379  ...   0.5659  0.5754  0.6155\n",
      "  0.5630  0.4980  0.5432  ...   0.5882  0.5912  0.5862\n",
      "  0.5888  0.5596  0.5553  ...   0.5711  0.5300  0.5864\n",
      "[torch.FloatTensor of size 1x32x32]\n",
      "\n",
      "Average Loss:  0.0113274954259\n",
      "Train Epoch: 13 [0/185 (0%)]\tLoss: 0.911037\n",
      "Train Epoch: 13 [85/185 (50%)]\tLoss: 0.933441\n",
      "\n",
      "(0 ,.,.) = \n",
      "  0.6761  0.6273  0.8066  ...   0.7149  0.6288  0.7021\n",
      "  0.5871  0.5466  0.6080  ...   0.5255  0.5264  0.5862\n",
      "  0.5369  0.4850  0.6803  ...   0.5720  0.5711  0.5881\n",
      "           ...             ⋱             ...          \n",
      "  0.5464  0.5091  0.5373  ...   0.5658  0.5754  0.6159\n",
      "  0.5629  0.4974  0.5428  ...   0.5875  0.5912  0.5861\n",
      "  0.5887  0.5594  0.5551  ...   0.5710  0.5297  0.5862\n",
      "[torch.FloatTensor of size 1x32x32]\n",
      "\n",
      "Average Loss:  0.0113260351121\n",
      "Train Epoch: 14 [0/185 (0%)]\tLoss: 0.910382\n",
      "Train Epoch: 14 [85/185 (50%)]\tLoss: 0.924152\n",
      "\n",
      "(0 ,.,.) = \n",
      "  0.6767  0.6276  0.8071  ...   0.7145  0.6288  0.7022\n",
      "  0.5872  0.5463  0.6070  ...   0.5254  0.5263  0.5862\n",
      "  0.5371  0.4853  0.6786  ...   0.5725  0.5709  0.5881\n",
      "           ...             ⋱             ...          \n",
      "  0.5462  0.5090  0.5370  ...   0.5656  0.5752  0.6162\n",
      "  0.5625  0.4972  0.5426  ...   0.5875  0.5912  0.5861\n",
      "  0.5887  0.5591  0.5550  ...   0.5710  0.5297  0.5863\n",
      "[torch.FloatTensor of size 1x32x32]\n",
      "\n",
      "Average Loss:  0.0113255895674\n"
     ]
    }
   ],
   "source": [
    "# 99 % validation accuracy \n",
    "for epoch in range(1, 15):\n",
    "    train(model_instance, epoch)\n",
    "    test(model_instance)    "
   ]
  },
  {
   "cell_type": "code",
   "execution_count": 21,
   "metadata": {
    "collapsed": false
   },
   "outputs": [],
   "source": [
    "torch.save(model_instance, './saved_models/mini_unet.pth')"
   ]
  },
  {
   "cell_type": "code",
   "execution_count": null,
   "metadata": {
    "collapsed": false
   },
   "outputs": [],
   "source": []
  }
 ],
 "metadata": {
  "kernelspec": {
   "display_name": "Python 2",
   "language": "python",
   "name": "python2"
  },
  "language_info": {
   "codemirror_mode": {
    "name": "ipython",
    "version": 2
   },
   "file_extension": ".py",
   "mimetype": "text/x-python",
   "name": "python",
   "nbconvert_exporter": "python",
   "pygments_lexer": "ipython2",
   "version": "2.7.12"
  }
 },
 "nbformat": 4,
 "nbformat_minor": 0
}
